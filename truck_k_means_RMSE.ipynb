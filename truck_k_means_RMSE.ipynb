{
  "nbformat": 4,
  "nbformat_minor": 0,
  "metadata": {
    "colab": {
      "provenance": []
    },
    "kernelspec": {
      "name": "python3",
      "display_name": "Python 3"
    },
    "language_info": {
      "name": "python"
    }
  },
  "cells": [
    {
      "cell_type": "code",
      "execution_count": null,
      "metadata": {
        "id": "ftGwJShSvKPo"
      },
      "outputs": [],
      "source": [
        "import numpy as np\n",
        "import matplotlib.pyplot as mtp    \n",
        "import pandas as pd    \n",
        "import tensorflow as tf"
      ]
    },
    {
      "cell_type": "code",
      "source": [
        "df= pd.read_csv(\"/content/drive/MyDrive/Data/IDMT_alltrucks_RMSE.csv\")"
      ],
      "metadata": {
        "id": "r4Gdmd6RwFW7"
      },
      "execution_count": null,
      "outputs": []
    },
    {
      "cell_type": "code",
      "source": [
        "df"
      ],
      "metadata": {
        "colab": {
          "base_uri": "https://localhost:8080/",
          "height": 852
        },
        "id": "XnT3ZNl9whSt",
        "outputId": "55870a12-2ae1-42ca-a93c-2c747ac8c37f"
      },
      "execution_count": null,
      "outputs": [
        {
          "output_type": "execute_result",
          "data": {
            "text/plain": [
              "     Unnamed: 0                                               file  \\\n",
              "0             0  2019-11-13-15-55_Schleusinger-Allee_70Kmh_2473...   \n",
              "1             1  2019-11-19-08-30_Langewiesener-Strasse_50Kmh_1...   \n",
              "2             2  2019-11-18-16-40_Langewiesener-Strasse_50Kmh_1...   \n",
              "3             3  2019-11-19-07-25_Langewiesener-Strasse_50Kmh_2...   \n",
              "4             4  2019-11-12-16-00_Schleusinger-Allee_70Kmh_2723...   \n",
              "..          ...                                                ...   \n",
              "506         506  2019-11-19-16-30_Langewiesener-Strasse_50Kmh_1...   \n",
              "507         507  2019-10-23-16-20_Fraunhofer-IDMT_30Kmh_1649048...   \n",
              "508         508  2019-11-18-15-45_Langewiesener-Strasse_50Kmh_2...   \n",
              "509         509  2019-11-18-16-40_Langewiesener-Strasse_50Kmh_1...   \n",
              "510         510  2019-11-19-08-30_Langewiesener-Strasse_50Kmh_1...   \n",
              "\n",
              "     is_background         date_time               location  speed_kmh  \\\n",
              "0            False  2019-11-13-15-55     Schleusinger-Allee         70   \n",
              "1            False  2019-11-19-08-30  Langewiesener-Strasse         50   \n",
              "2            False  2019-11-18-16-40  Langewiesener-Strasse         50   \n",
              "3            False  2019-11-19-07-25  Langewiesener-Strasse         50   \n",
              "4            False  2019-11-12-16-00     Schleusinger-Allee         70   \n",
              "..             ...               ...                    ...        ...   \n",
              "506          False  2019-11-19-16-30  Langewiesener-Strasse         50   \n",
              "507          False  2019-10-23-16-20        Fraunhofer-IDMT         30   \n",
              "508          False  2019-11-18-15-45  Langewiesener-Strasse         50   \n",
              "509          False  2019-11-18-16-40  Langewiesener-Strasse         50   \n",
              "510          False  2019-11-19-08-30  Langewiesener-Strasse         50   \n",
              "\n",
              "     sample_pos daytime weather vehicle source_direction microphone channel  \\\n",
              "0       2473197       A       D       T                R         SE    CH34   \n",
              "1       1009688       M       D       T                R         SE    CH34   \n",
              "2        180216       A       D       T                R         SE    CH34   \n",
              "3       2609792       M       D       T                L         SE    CH34   \n",
              "4        272312       A       W       T                R         SE    CH34   \n",
              "..          ...     ...     ...     ...              ...        ...     ...   \n",
              "506     1565024       A       D       T                L         SE    CH34   \n",
              "507     1649048       A       D       T                L         SE    CH34   \n",
              "508     2800280       A       D       T                L         SE    CH34   \n",
              "509     1199528       A       D       T                L         SE    CH34   \n",
              "510     1736288       M       D       T                L         SE    CH34   \n",
              "\n",
              "                                          mfcc_feature  \n",
              "0    [0.01421475037932396, 0.019523706287145615, 0....  \n",
              "1    [0.005629489663988352, 0.008286668919026852, 0...  \n",
              "2    [0.008609752170741558, 0.011832940392196178, 0...  \n",
              "3    [0.013976510614156723, 0.02014055661857128, 0....  \n",
              "4    [0.016683457419276237, 0.022874865680933, 0.02...  \n",
              "..                                                 ...  \n",
              "506  [0.010653178207576275, 0.01503085345029831, 0....  \n",
              "507  [0.027255168184638023, 0.040500007569789886, 0...  \n",
              "508  [0.00855175219476223, 0.012304519303143024, 0....  \n",
              "509  [0.006329944357275963, 0.008125674910843372, 0...  \n",
              "510  [0.012057713232934475, 0.016247263178229332, 0...  \n",
              "\n",
              "[511 rows x 14 columns]"
            ],
            "text/html": [
              "\n",
              "  <div id=\"df-c429ff3c-0e06-4a83-adb2-012fdef6842f\">\n",
              "    <div class=\"colab-df-container\">\n",
              "      <div>\n",
              "<style scoped>\n",
              "    .dataframe tbody tr th:only-of-type {\n",
              "        vertical-align: middle;\n",
              "    }\n",
              "\n",
              "    .dataframe tbody tr th {\n",
              "        vertical-align: top;\n",
              "    }\n",
              "\n",
              "    .dataframe thead th {\n",
              "        text-align: right;\n",
              "    }\n",
              "</style>\n",
              "<table border=\"1\" class=\"dataframe\">\n",
              "  <thead>\n",
              "    <tr style=\"text-align: right;\">\n",
              "      <th></th>\n",
              "      <th>Unnamed: 0</th>\n",
              "      <th>file</th>\n",
              "      <th>is_background</th>\n",
              "      <th>date_time</th>\n",
              "      <th>location</th>\n",
              "      <th>speed_kmh</th>\n",
              "      <th>sample_pos</th>\n",
              "      <th>daytime</th>\n",
              "      <th>weather</th>\n",
              "      <th>vehicle</th>\n",
              "      <th>source_direction</th>\n",
              "      <th>microphone</th>\n",
              "      <th>channel</th>\n",
              "      <th>mfcc_feature</th>\n",
              "    </tr>\n",
              "  </thead>\n",
              "  <tbody>\n",
              "    <tr>\n",
              "      <th>0</th>\n",
              "      <td>0</td>\n",
              "      <td>2019-11-13-15-55_Schleusinger-Allee_70Kmh_2473...</td>\n",
              "      <td>False</td>\n",
              "      <td>2019-11-13-15-55</td>\n",
              "      <td>Schleusinger-Allee</td>\n",
              "      <td>70</td>\n",
              "      <td>2473197</td>\n",
              "      <td>A</td>\n",
              "      <td>D</td>\n",
              "      <td>T</td>\n",
              "      <td>R</td>\n",
              "      <td>SE</td>\n",
              "      <td>CH34</td>\n",
              "      <td>[0.01421475037932396, 0.019523706287145615, 0....</td>\n",
              "    </tr>\n",
              "    <tr>\n",
              "      <th>1</th>\n",
              "      <td>1</td>\n",
              "      <td>2019-11-19-08-30_Langewiesener-Strasse_50Kmh_1...</td>\n",
              "      <td>False</td>\n",
              "      <td>2019-11-19-08-30</td>\n",
              "      <td>Langewiesener-Strasse</td>\n",
              "      <td>50</td>\n",
              "      <td>1009688</td>\n",
              "      <td>M</td>\n",
              "      <td>D</td>\n",
              "      <td>T</td>\n",
              "      <td>R</td>\n",
              "      <td>SE</td>\n",
              "      <td>CH34</td>\n",
              "      <td>[0.005629489663988352, 0.008286668919026852, 0...</td>\n",
              "    </tr>\n",
              "    <tr>\n",
              "      <th>2</th>\n",
              "      <td>2</td>\n",
              "      <td>2019-11-18-16-40_Langewiesener-Strasse_50Kmh_1...</td>\n",
              "      <td>False</td>\n",
              "      <td>2019-11-18-16-40</td>\n",
              "      <td>Langewiesener-Strasse</td>\n",
              "      <td>50</td>\n",
              "      <td>180216</td>\n",
              "      <td>A</td>\n",
              "      <td>D</td>\n",
              "      <td>T</td>\n",
              "      <td>R</td>\n",
              "      <td>SE</td>\n",
              "      <td>CH34</td>\n",
              "      <td>[0.008609752170741558, 0.011832940392196178, 0...</td>\n",
              "    </tr>\n",
              "    <tr>\n",
              "      <th>3</th>\n",
              "      <td>3</td>\n",
              "      <td>2019-11-19-07-25_Langewiesener-Strasse_50Kmh_2...</td>\n",
              "      <td>False</td>\n",
              "      <td>2019-11-19-07-25</td>\n",
              "      <td>Langewiesener-Strasse</td>\n",
              "      <td>50</td>\n",
              "      <td>2609792</td>\n",
              "      <td>M</td>\n",
              "      <td>D</td>\n",
              "      <td>T</td>\n",
              "      <td>L</td>\n",
              "      <td>SE</td>\n",
              "      <td>CH34</td>\n",
              "      <td>[0.013976510614156723, 0.02014055661857128, 0....</td>\n",
              "    </tr>\n",
              "    <tr>\n",
              "      <th>4</th>\n",
              "      <td>4</td>\n",
              "      <td>2019-11-12-16-00_Schleusinger-Allee_70Kmh_2723...</td>\n",
              "      <td>False</td>\n",
              "      <td>2019-11-12-16-00</td>\n",
              "      <td>Schleusinger-Allee</td>\n",
              "      <td>70</td>\n",
              "      <td>272312</td>\n",
              "      <td>A</td>\n",
              "      <td>W</td>\n",
              "      <td>T</td>\n",
              "      <td>R</td>\n",
              "      <td>SE</td>\n",
              "      <td>CH34</td>\n",
              "      <td>[0.016683457419276237, 0.022874865680933, 0.02...</td>\n",
              "    </tr>\n",
              "    <tr>\n",
              "      <th>...</th>\n",
              "      <td>...</td>\n",
              "      <td>...</td>\n",
              "      <td>...</td>\n",
              "      <td>...</td>\n",
              "      <td>...</td>\n",
              "      <td>...</td>\n",
              "      <td>...</td>\n",
              "      <td>...</td>\n",
              "      <td>...</td>\n",
              "      <td>...</td>\n",
              "      <td>...</td>\n",
              "      <td>...</td>\n",
              "      <td>...</td>\n",
              "      <td>...</td>\n",
              "    </tr>\n",
              "    <tr>\n",
              "      <th>506</th>\n",
              "      <td>506</td>\n",
              "      <td>2019-11-19-16-30_Langewiesener-Strasse_50Kmh_1...</td>\n",
              "      <td>False</td>\n",
              "      <td>2019-11-19-16-30</td>\n",
              "      <td>Langewiesener-Strasse</td>\n",
              "      <td>50</td>\n",
              "      <td>1565024</td>\n",
              "      <td>A</td>\n",
              "      <td>D</td>\n",
              "      <td>T</td>\n",
              "      <td>L</td>\n",
              "      <td>SE</td>\n",
              "      <td>CH34</td>\n",
              "      <td>[0.010653178207576275, 0.01503085345029831, 0....</td>\n",
              "    </tr>\n",
              "    <tr>\n",
              "      <th>507</th>\n",
              "      <td>507</td>\n",
              "      <td>2019-10-23-16-20_Fraunhofer-IDMT_30Kmh_1649048...</td>\n",
              "      <td>False</td>\n",
              "      <td>2019-10-23-16-20</td>\n",
              "      <td>Fraunhofer-IDMT</td>\n",
              "      <td>30</td>\n",
              "      <td>1649048</td>\n",
              "      <td>A</td>\n",
              "      <td>D</td>\n",
              "      <td>T</td>\n",
              "      <td>L</td>\n",
              "      <td>SE</td>\n",
              "      <td>CH34</td>\n",
              "      <td>[0.027255168184638023, 0.040500007569789886, 0...</td>\n",
              "    </tr>\n",
              "    <tr>\n",
              "      <th>508</th>\n",
              "      <td>508</td>\n",
              "      <td>2019-11-18-15-45_Langewiesener-Strasse_50Kmh_2...</td>\n",
              "      <td>False</td>\n",
              "      <td>2019-11-18-15-45</td>\n",
              "      <td>Langewiesener-Strasse</td>\n",
              "      <td>50</td>\n",
              "      <td>2800280</td>\n",
              "      <td>A</td>\n",
              "      <td>D</td>\n",
              "      <td>T</td>\n",
              "      <td>L</td>\n",
              "      <td>SE</td>\n",
              "      <td>CH34</td>\n",
              "      <td>[0.00855175219476223, 0.012304519303143024, 0....</td>\n",
              "    </tr>\n",
              "    <tr>\n",
              "      <th>509</th>\n",
              "      <td>509</td>\n",
              "      <td>2019-11-18-16-40_Langewiesener-Strasse_50Kmh_1...</td>\n",
              "      <td>False</td>\n",
              "      <td>2019-11-18-16-40</td>\n",
              "      <td>Langewiesener-Strasse</td>\n",
              "      <td>50</td>\n",
              "      <td>1199528</td>\n",
              "      <td>A</td>\n",
              "      <td>D</td>\n",
              "      <td>T</td>\n",
              "      <td>L</td>\n",
              "      <td>SE</td>\n",
              "      <td>CH34</td>\n",
              "      <td>[0.006329944357275963, 0.008125674910843372, 0...</td>\n",
              "    </tr>\n",
              "    <tr>\n",
              "      <th>510</th>\n",
              "      <td>510</td>\n",
              "      <td>2019-11-19-08-30_Langewiesener-Strasse_50Kmh_1...</td>\n",
              "      <td>False</td>\n",
              "      <td>2019-11-19-08-30</td>\n",
              "      <td>Langewiesener-Strasse</td>\n",
              "      <td>50</td>\n",
              "      <td>1736288</td>\n",
              "      <td>M</td>\n",
              "      <td>D</td>\n",
              "      <td>T</td>\n",
              "      <td>L</td>\n",
              "      <td>SE</td>\n",
              "      <td>CH34</td>\n",
              "      <td>[0.012057713232934475, 0.016247263178229332, 0...</td>\n",
              "    </tr>\n",
              "  </tbody>\n",
              "</table>\n",
              "<p>511 rows × 14 columns</p>\n",
              "</div>\n",
              "      <button class=\"colab-df-convert\" onclick=\"convertToInteractive('df-c429ff3c-0e06-4a83-adb2-012fdef6842f')\"\n",
              "              title=\"Convert this dataframe to an interactive table.\"\n",
              "              style=\"display:none;\">\n",
              "        \n",
              "  <svg xmlns=\"http://www.w3.org/2000/svg\" height=\"24px\"viewBox=\"0 0 24 24\"\n",
              "       width=\"24px\">\n",
              "    <path d=\"M0 0h24v24H0V0z\" fill=\"none\"/>\n",
              "    <path d=\"M18.56 5.44l.94 2.06.94-2.06 2.06-.94-2.06-.94-.94-2.06-.94 2.06-2.06.94zm-11 1L8.5 8.5l.94-2.06 2.06-.94-2.06-.94L8.5 2.5l-.94 2.06-2.06.94zm10 10l.94 2.06.94-2.06 2.06-.94-2.06-.94-.94-2.06-.94 2.06-2.06.94z\"/><path d=\"M17.41 7.96l-1.37-1.37c-.4-.4-.92-.59-1.43-.59-.52 0-1.04.2-1.43.59L10.3 9.45l-7.72 7.72c-.78.78-.78 2.05 0 2.83L4 21.41c.39.39.9.59 1.41.59.51 0 1.02-.2 1.41-.59l7.78-7.78 2.81-2.81c.8-.78.8-2.07 0-2.86zM5.41 20L4 18.59l7.72-7.72 1.47 1.35L5.41 20z\"/>\n",
              "  </svg>\n",
              "      </button>\n",
              "      \n",
              "  <style>\n",
              "    .colab-df-container {\n",
              "      display:flex;\n",
              "      flex-wrap:wrap;\n",
              "      gap: 12px;\n",
              "    }\n",
              "\n",
              "    .colab-df-convert {\n",
              "      background-color: #E8F0FE;\n",
              "      border: none;\n",
              "      border-radius: 50%;\n",
              "      cursor: pointer;\n",
              "      display: none;\n",
              "      fill: #1967D2;\n",
              "      height: 32px;\n",
              "      padding: 0 0 0 0;\n",
              "      width: 32px;\n",
              "    }\n",
              "\n",
              "    .colab-df-convert:hover {\n",
              "      background-color: #E2EBFA;\n",
              "      box-shadow: 0px 1px 2px rgba(60, 64, 67, 0.3), 0px 1px 3px 1px rgba(60, 64, 67, 0.15);\n",
              "      fill: #174EA6;\n",
              "    }\n",
              "\n",
              "    [theme=dark] .colab-df-convert {\n",
              "      background-color: #3B4455;\n",
              "      fill: #D2E3FC;\n",
              "    }\n",
              "\n",
              "    [theme=dark] .colab-df-convert:hover {\n",
              "      background-color: #434B5C;\n",
              "      box-shadow: 0px 1px 3px 1px rgba(0, 0, 0, 0.15);\n",
              "      filter: drop-shadow(0px 1px 2px rgba(0, 0, 0, 0.3));\n",
              "      fill: #FFFFFF;\n",
              "    }\n",
              "  </style>\n",
              "\n",
              "      <script>\n",
              "        const buttonEl =\n",
              "          document.querySelector('#df-c429ff3c-0e06-4a83-adb2-012fdef6842f button.colab-df-convert');\n",
              "        buttonEl.style.display =\n",
              "          google.colab.kernel.accessAllowed ? 'block' : 'none';\n",
              "\n",
              "        async function convertToInteractive(key) {\n",
              "          const element = document.querySelector('#df-c429ff3c-0e06-4a83-adb2-012fdef6842f');\n",
              "          const dataTable =\n",
              "            await google.colab.kernel.invokeFunction('convertToInteractive',\n",
              "                                                     [key], {});\n",
              "          if (!dataTable) return;\n",
              "\n",
              "          const docLinkHtml = 'Like what you see? Visit the ' +\n",
              "            '<a target=\"_blank\" href=https://colab.research.google.com/notebooks/data_table.ipynb>data table notebook</a>'\n",
              "            + ' to learn more about interactive tables.';\n",
              "          element.innerHTML = '';\n",
              "          dataTable['output_type'] = 'display_data';\n",
              "          await google.colab.output.renderOutput(dataTable, element);\n",
              "          const docLink = document.createElement('div');\n",
              "          docLink.innerHTML = docLinkHtml;\n",
              "          element.appendChild(docLink);\n",
              "        }\n",
              "      </script>\n",
              "    </div>\n",
              "  </div>\n",
              "  "
            ]
          },
          "metadata": {},
          "execution_count": 4
        }
      ]
    },
    {
      "cell_type": "code",
      "source": [
        "# df['mfcc_feature'] = df['mfcc_feature'].astype(float)"
      ],
      "metadata": {
        "id": "JfSUVRTSRAqL"
      },
      "execution_count": null,
      "outputs": []
    },
    {
      "cell_type": "code",
      "source": [
        "X=np.load('/content/drive/MyDrive/Data/features_alltrucks_RMSE.npy')\n",
        "print(np.shape(X))"
      ],
      "metadata": {
        "id": "MQuN3SRQwcxs",
        "colab": {
          "base_uri": "https://localhost:8080/"
        },
        "outputId": "70aceb0b-3a43-488e-ce7c-e3c0571364da"
      },
      "execution_count": null,
      "outputs": [
        {
          "output_type": "stream",
          "name": "stdout",
          "text": [
            "(511, 87)\n"
          ]
        }
      ]
    },
    {
      "cell_type": "code",
      "source": [
        "z=X"
      ],
      "metadata": {
        "id": "3EioFD13Bzef"
      },
      "execution_count": null,
      "outputs": []
    },
    {
      "cell_type": "code",
      "source": [
        "from sklearn.cluster import KMeans  \n",
        "wcss_list= []  #Initializing the list for the values of WCSS  \n",
        "  \n",
        "#Using for loop for iterations from 1 to 10.  \n",
        "for i in range(1, 11):  \n",
        "    kmeans = KMeans(n_clusters=i, init='k-means++', random_state= 42)  \n",
        "    kmeans.fit(z)  \n",
        "    wcss_list.append(kmeans.inertia_)  \n",
        "mtp.plot(range(1, 11), wcss_list)  \n",
        "mtp.title('The Elobw Method Graph')  \n",
        "mtp.xlabel('Number of clusters(k)')  \n",
        "mtp.ylabel('wcss_list')  \n",
        "mtp.show()  "
      ],
      "metadata": {
        "colab": {
          "base_uri": "https://localhost:8080/",
          "height": 295
        },
        "id": "4v8j5Mgkwc8k",
        "outputId": "6fa25693-3a82-416c-ef5d-27a23a081a75"
      },
      "execution_count": null,
      "outputs": [
        {
          "output_type": "display_data",
          "data": {
            "text/plain": [
              "<Figure size 432x288 with 1 Axes>"
            ],
            "image/png": "[encoded data removed]"
          },
          "metadata": {
            "needs_background": "light"
          }
        }
      ]
    },
    {
      "cell_type": "code",
      "source": [
        "from sklearn.cluster import KMeans  \n",
        "kmeans = KMeans(n_clusters=2, init='k-means++', random_state= 42)  \n",
        "y_predict= kmeans.fit_predict(z)  #511,1"
      ],
      "metadata": {
        "id": "8bkLMTj5xhQO"
      },
      "execution_count": null,
      "outputs": []
    },
    {
      "cell_type": "code",
      "source": [
        "y_predict\n"
      ],
      "metadata": {
        "id": "hQ6H7MVgDWM9",
        "outputId": "08b65526-e233-4b3f-a5a6-c93f3ebb4f24",
        "colab": {
          "base_uri": "https://localhost:8080/"
        }
      },
      "execution_count": null,
      "outputs": [
        {
          "output_type": "execute_result",
          "data": {
            "text/plain": [
              "array([1, 1, 1, 1, 0, 0, 0, 1, 1, 1, 1, 0, 1, 0, 1, 1, 1, 1, 1, 1, 1, 1,\n",
              "       1, 1, 0, 0, 1, 1, 1, 1, 1, 1, 1, 1, 1, 1, 0, 0, 1, 0, 1, 1, 1, 0,\n",
              "       1, 1, 1, 1, 1, 1, 1, 1, 1, 1, 0, 1, 1, 1, 1, 1, 1, 1, 0, 1, 1, 1,\n",
              "       1, 1, 1, 1, 1, 1, 0, 1, 0, 1, 1, 1, 0, 1, 1, 1, 1, 1, 1, 1, 0, 1,\n",
              "       1, 1, 1, 1, 1, 1, 1, 1, 1, 1, 1, 1, 1, 1, 0, 1, 1, 1, 0, 1, 1, 1,\n",
              "       1, 1, 1, 0, 1, 0, 1, 1, 1, 1, 1, 0, 1, 1, 1, 1, 1, 1, 1, 1, 1, 1,\n",
              "       0, 1, 1, 1, 1, 1, 1, 0, 1, 1, 1, 1, 1, 1, 0, 1, 1, 1, 1, 0, 1, 1,\n",
              "       1, 1, 0, 1, 1, 1, 1, 1, 1, 1, 1, 1, 0, 1, 1, 1, 0, 1, 1, 1, 1, 0,\n",
              "       1, 1, 1, 1, 1, 1, 1, 1, 1, 1, 1, 1, 1, 1, 1, 1, 1, 1, 1, 0, 1, 1,\n",
              "       0, 1, 1, 1, 1, 1, 1, 1, 1, 1, 1, 1, 0, 1, 1, 1, 1, 1, 1, 1, 1, 1,\n",
              "       1, 1, 1, 0, 1, 1, 1, 1, 1, 1, 1, 1, 1, 1, 0, 1, 1, 1, 1, 1, 1, 1,\n",
              "       1, 0, 1, 1, 1, 1, 1, 1, 1, 1, 1, 1, 1, 1, 1, 1, 1, 1, 1, 1, 1, 1,\n",
              "       1, 1, 1, 1, 1, 1, 1, 1, 1, 1, 1, 1, 1, 1, 1, 0, 1, 1, 1, 1, 1, 1,\n",
              "       1, 0, 1, 1, 1, 1, 1, 1, 1, 0, 1, 1, 1, 1, 1, 0, 0, 1, 1, 1, 1, 1,\n",
              "       1, 1, 1, 0, 1, 1, 1, 1, 1, 0, 1, 0, 1, 1, 1, 1, 1, 1, 1, 0, 1, 0,\n",
              "       0, 1, 1, 1, 0, 0, 0, 1, 1, 1, 1, 1, 0, 1, 1, 1, 1, 1, 1, 1, 1, 1,\n",
              "       1, 1, 1, 1, 1, 1, 1, 1, 1, 0, 0, 1, 1, 1, 1, 1, 1, 1, 1, 0, 1, 1,\n",
              "       1, 1, 1, 1, 1, 1, 1, 1, 1, 1, 1, 1, 1, 1, 1, 1, 1, 1, 1, 1, 1, 1,\n",
              "       1, 1, 1, 0, 1, 1, 1, 1, 1, 1, 1, 1, 1, 1, 1, 1, 1, 1, 1, 1, 1, 1,\n",
              "       0, 1, 1, 0, 1, 1, 1, 1, 1, 1, 1, 1, 0, 1, 1, 0, 1, 1, 1, 1, 1, 1,\n",
              "       1, 1, 1, 1, 1, 1, 1, 1, 1, 1, 1, 1, 1, 1, 1, 0, 0, 1, 1, 1, 1, 0,\n",
              "       1, 1, 0, 1, 1, 1, 1, 0, 1, 1, 1, 1, 1, 1, 1, 1, 1, 1, 1, 1, 1, 0,\n",
              "       1, 1, 1, 1, 1, 1, 1, 1, 1, 1, 1, 0, 1, 1, 1, 1, 1, 1, 1, 1, 1, 1,\n",
              "       1, 0, 1, 1, 1], dtype=int32)"
            ]
          },
          "metadata": {},
          "execution_count": 9
        }
      ]
    },
    {
      "cell_type": "code",
      "source": [
        "import matplotlib.pyplot as plt\n",
        "#filter rows of original data\n",
        "filtered_label2 = z[y_predict == 0]\n",
        " \n",
        "filtered_label8 = z[y_predict == 1]\n",
        "# filtered_label9 = z[y_predict == 2]\n",
        " \n",
        "#Plotting the results\n",
        "plt.scatter(filtered_label2[:,0] , filtered_label2[:,1] , color = 'red')\n",
        "plt.scatter(filtered_label8[:,0] , filtered_label8[:,1] , color = 'black')\n",
        "# plt.scatter(filtered_label9[:,0] , filtered_label9[:,1] , color = 'blue')\n",
        "plt.show()"
      ],
      "metadata": {
        "id": "TbyLBvFOCbxk",
        "outputId": "fd0376c5-8821-4975-a0c9-621cfbd8d59a",
        "colab": {
          "base_uri": "https://localhost:8080/",
          "height": 265
        }
      },
      "execution_count": null,
      "outputs": [
        {
          "output_type": "display_data",
          "data": {
            "text/plain": [
              "<Figure size 432x288 with 1 Axes>"
            ],
            "image/png": "[encoded data removed]"
          },
          "metadata": {
            "needs_background": "light"
          }
        }
      ]
    },
    {
      "cell_type": "code",
      "source": [
        "a=y_predict\n",
        "count=0\n",
        "list0=[]\n",
        "list1=[]\n",
        "for label in a:\n",
        "  if label==0:\n",
        "    list0.append(count)\n",
        "  else:\n",
        "    list1.append(count)\n",
        "  count=count+1    \n"
      ],
      "metadata": {
        "id": "j_-dMicOEm1D"
      },
      "execution_count": null,
      "outputs": []
    },
    {
      "cell_type": "code",
      "source": [
        "print(list0)\n",
        "print(list1)\n",
        "print(len(list0))\n",
        "print(len(list1))"
      ],
      "metadata": {
        "id": "hIPGg7HApW9W",
        "outputId": "fbcd02dc-a1cd-487c-a3d5-80cb2190e2ab",
        "colab": {
          "base_uri": "https://localhost:8080/"
        }
      },
      "execution_count": null,
      "outputs": [
        {
          "output_type": "stream",
          "name": "stdout",
          "text": [
            "[4, 5, 6, 11, 13, 24, 25, 36, 37, 39, 43, 54, 62, 72, 74, 78, 86, 102, 106, 113, 115, 121, 132, 139, 146, 151, 156, 166, 170, 175, 195, 198, 210, 223, 234, 243, 279, 287, 295, 301, 302, 311, 317, 319, 327, 329, 330, 334, 335, 336, 342, 361, 362, 371, 399, 418, 421, 430, 433, 455, 456, 461, 464, 469, 483, 495, 507]\n",
            "[0, 1, 2, 3, 7, 8, 9, 10, 12, 14, 15, 16, 17, 18, 19, 20, 21, 22, 23, 26, 27, 28, 29, 30, 31, 32, 33, 34, 35, 38, 40, 41, 42, 44, 45, 46, 47, 48, 49, 50, 51, 52, 53, 55, 56, 57, 58, 59, 60, 61, 63, 64, 65, 66, 67, 68, 69, 70, 71, 73, 75, 76, 77, 79, 80, 81, 82, 83, 84, 85, 87, 88, 89, 90, 91, 92, 93, 94, 95, 96, 97, 98, 99, 100, 101, 103, 104, 105, 107, 108, 109, 110, 111, 112, 114, 116, 117, 118, 119, 120, 122, 123, 124, 125, 126, 127, 128, 129, 130, 131, 133, 134, 135, 136, 137, 138, 140, 141, 142, 143, 144, 145, 147, 148, 149, 150, 152, 153, 154, 155, 157, 158, 159, 160, 161, 162, 163, 164, 165, 167, 168, 169, 171, 172, 173, 174, 176, 177, 178, 179, 180, 181, 182, 183, 184, 185, 186, 187, 188, 189, 190, 191, 192, 193, 194, 196, 197, 199, 200, 201, 202, 203, 204, 205, 206, 207, 208, 209, 211, 212, 213, 214, 215, 216, 217, 218, 219, 220, 221, 222, 224, 225, 226, 227, 228, 229, 230, 231, 232, 233, 235, 236, 237, 238, 239, 240, 241, 242, 244, 245, 246, 247, 248, 249, 250, 251, 252, 253, 254, 255, 256, 257, 258, 259, 260, 261, 262, 263, 264, 265, 266, 267, 268, 269, 270, 271, 272, 273, 274, 275, 276, 277, 278, 280, 281, 282, 283, 284, 285, 286, 288, 289, 290, 291, 292, 293, 294, 296, 297, 298, 299, 300, 303, 304, 305, 306, 307, 308, 309, 310, 312, 313, 314, 315, 316, 318, 320, 321, 322, 323, 324, 325, 326, 328, 331, 332, 333, 337, 338, 339, 340, 341, 343, 344, 345, 346, 347, 348, 349, 350, 351, 352, 353, 354, 355, 356, 357, 358, 359, 360, 363, 364, 365, 366, 367, 368, 369, 370, 372, 373, 374, 375, 376, 377, 378, 379, 380, 381, 382, 383, 384, 385, 386, 387, 388, 389, 390, 391, 392, 393, 394, 395, 396, 397, 398, 400, 401, 402, 403, 404, 405, 406, 407, 408, 409, 410, 411, 412, 413, 414, 415, 416, 417, 419, 420, 422, 423, 424, 425, 426, 427, 428, 429, 431, 432, 434, 435, 436, 437, 438, 439, 440, 441, 442, 443, 444, 445, 446, 447, 448, 449, 450, 451, 452, 453, 454, 457, 458, 459, 460, 462, 463, 465, 466, 467, 468, 470, 471, 472, 473, 474, 475, 476, 477, 478, 479, 480, 481, 482, 484, 485, 486, 487, 488, 489, 490, 491, 492, 493, 494, 496, 497, 498, 499, 500, 501, 502, 503, 504, 505, 506, 508, 509, 510]\n",
            "67\n",
            "444\n"
          ]
        }
      ]
    },
    {
      "cell_type": "code",
      "source": [
        "for i in range(511):\n",
        "  if i in list0:\n",
        "    print(df['file'][i])"
      ],
      "metadata": {
        "id": "ch0kfuAtpkvy",
        "outputId": "250a3e60-da82-4afb-df82-d68a6edf4229",
        "colab": {
          "base_uri": "https://localhost:8080/"
        }
      },
      "execution_count": null,
      "outputs": [
        {
          "output_type": "stream",
          "name": "stdout",
          "text": [
            "2019-11-12-16-00_Schleusinger-Allee_70Kmh_272312_A_W_TR_SE_CH34\n",
            "2019-11-18-07-25_Langewiesener-Strasse_50Kmh_1270664_M_D_TR_SE_CH34\n",
            "2019-11-19-16-30_Langewiesener-Strasse_50Kmh_738440_A_D_TL_SE_CH34\n",
            "2019-11-12-16-00_Schleusinger-Allee_70Kmh_54056_A_W_TL_SE_CH34\n",
            "2019-11-19-15-25_Langewiesener-Strasse_50Kmh_679672_A_D_TL_SE_CH34\n",
            "2019-11-19-16-30_Langewiesener-Strasse_50Kmh_1899152_A_D_TL_SE_CH34\n",
            "2019-10-23-08-35_Fraunhofer-IDMT_30Kmh_657304_M_D_TR_SE_CH34\n",
            "2019-11-12-09-00_Schleusinger-Allee_70Kmh_3188120_M_W_TR_SE_CH34\n",
            "2019-11-18-07-25_Langewiesener-Strasse_50Kmh_1206344_M_D_TL_SE_CH34\n",
            "2019-11-12-10-00_Schleusinger-Allee_70Kmh_102424_M_W_TL_SE_CH34\n",
            "2019-11-13-08-00_Schleusinger-Allee_70Kmh_1033496_M_W_TL_SE_CH34\n",
            "2019-11-19-16-30_Langewiesener-Strasse_50Kmh_1801448_A_D_TL_SE_CH34\n",
            "2019-11-18-15-45_Langewiesener-Strasse_50Kmh_775784_A_D_TL_SE_CH34\n",
            "2019-11-13-15-55_Schleusinger-Allee_70Kmh_307533_A_D_TL_SE_CH34\n",
            "2019-11-13-08-00_Schleusinger-Allee_70Kmh_1982744_M_W_TL_SE_CH34\n",
            "2019-11-12-10-00_Schleusinger-Allee_70Kmh_1177186_M_W_TR_SE_CH34\n",
            "2019-11-13-15-55_Schleusinger-Allee_70Kmh_3153152_A_D_TL_SE_CH34\n",
            "2019-10-23-16-20_Fraunhofer-IDMT_30Kmh_1589186_A_D_TL_SE_CH34\n",
            "2019-11-13-08-00_Schleusinger-Allee_70Kmh_2135480_M_W_TR_SE_CH34\n",
            "2019-11-19-07-25_Langewiesener-Strasse_50Kmh_3405176_M_D_TL_SE_CH34\n",
            "2019-10-23-16-20_Fraunhofer-IDMT_30Kmh_1424493_A_D_TL_SE_CH34\n",
            "2019-11-12-09-00_Schleusinger-Allee_70Kmh_1783544_M_W_TR_SE_CH34\n",
            "2019-11-12-16-00_Schleusinger-Allee_70Kmh_68840_A_W_TL_SE_CH34\n",
            "2019-11-13-15-55_Schleusinger-Allee_70Kmh_754813_A_D_TR_SE_CH34\n",
            "2019-11-19-08-30_Langewiesener-Strasse_50Kmh_943640_M_D_TL_SE_CH34\n",
            "2019-11-18-15-45_Langewiesener-Strasse_50Kmh_732104_A_D_TL_SE_CH34\n",
            "2019-11-12-10-00_Schleusinger-Allee_70Kmh_349592_M_W_TL_SE_CH34\n",
            "2019-11-13-08-00_Schleusinger-Allee_70Kmh_575864_M_W_TR_SE_CH34\n",
            "2019-11-13-08-00_Schleusinger-Allee_70Kmh_667256_M_W_TR_SE_CH34\n",
            "2019-11-19-08-30_Langewiesener-Strasse_50Kmh_300680_M_D_TR_SE_CH34\n",
            "2019-11-12-09-00_Schleusinger-Allee_70Kmh_1065240_M_W_TL_SE_CH34\n",
            "2019-11-13-15-55_Schleusinger-Allee_70Kmh_1440237_A_D_TL_SE_CH34\n",
            "2019-11-18-07-25_Langewiesener-Strasse_50Kmh_1288760_M_D_TL_SE_CH34\n",
            "2019-11-12-09-00_Schleusinger-Allee_70Kmh_364226_M_W_TL_SE_CH34\n",
            "2019-11-18-16-40_Langewiesener-Strasse_50Kmh_1076071_A_D_TR_SE_CH34\n",
            "2019-11-12-09-00_Schleusinger-Allee_70Kmh_2688194_M_W_TL_SE_CH34\n",
            "2019-11-12-09-00_Schleusinger-Allee_70Kmh_2379704_M_W_TL_SE_CH34\n",
            "2019-11-18-16-40_Langewiesener-Strasse_50Kmh_1496744_A_D_TL_SE_CH34\n",
            "2019-11-13-08-00_Schleusinger-Allee_70Kmh_643976_M_W_TL_SE_CH34\n",
            "2019-11-13-15-55_Schleusinger-Allee_70Kmh_3421549_A_D_TR_SE_CH34\n",
            "2019-11-19-08-30_Langewiesener-Strasse_50Kmh_302216_M_D_TR_SE_CH34\n",
            "2019-11-13-08-00_Schleusinger-Allee_70Kmh_1603928_M_W_TL_SE_CH34\n",
            "2019-11-19-15-25_Langewiesener-Strasse_50Kmh_2562861_A_D_TL_SE_CH34\n",
            "2019-11-12-09-00_Schleusinger-Allee_70Kmh_966829_M_W_TL_SE_CH34\n",
            "2019-11-19-15-25_Langewiesener-Strasse_50Kmh_1879160_A_D_TL_SE_CH34\n",
            "2019-11-12-09-00_Schleusinger-Allee_70Kmh_1290946_M_W_TR_SE_CH34\n",
            "2019-11-18-16-40_Langewiesener-Strasse_50Kmh_570626_A_D_TR_SE_CH34\n",
            "2019-11-13-15-55_Schleusinger-Allee_70Kmh_775800_A_D_TL_SE_CH34\n",
            "2019-10-23-08-35_Fraunhofer-IDMT_30Kmh_582850_M_D_TR_SE_CH34\n",
            "2019-11-12-09-00_Schleusinger-Allee_70Kmh_1370647_M_W_TR_SE_CH34\n",
            "2019-11-13-08-00_Schleusinger-Allee_70Kmh_2998098_M_W_TL_SE_CH34\n",
            "2019-11-13-15-55_Schleusinger-Allee_70Kmh_2601133_A_D_TR_SE_CH34\n",
            "2019-11-12-16-00_Schleusinger-Allee_70Kmh_2111320_A_W_TR_SE_CH34\n",
            "2019-11-13-08-00_Schleusinger-Allee_70Kmh_2379176_M_W_TL_SE_CH34\n",
            "2019-11-12-09-00_Schleusinger-Allee_70Kmh_648066_M_W_TL_SE_CH34\n",
            "2019-11-13-08-00_Schleusinger-Allee_70Kmh_2884680_M_W_TR_SE_CH34\n",
            "2019-11-13-08-00_Schleusinger-Allee_70Kmh_746744_M_W_TR_SE_CH34\n",
            "2019-11-19-07-25_Langewiesener-Strasse_50Kmh_2442583_M_D_TR_SE_CH34\n",
            "2019-11-13-15-55_Schleusinger-Allee_70Kmh_2459672_A_D_TR_SE_CH34\n",
            "2019-11-13-08-00_Schleusinger-Allee_70Kmh_2024024_M_W_TR_SE_CH34\n",
            "2019-11-12-09-00_Schleusinger-Allee_70Kmh_1950968_M_W_TR_SE_CH34\n",
            "2019-10-23-08-35_Fraunhofer-IDMT_30Kmh_1175000_M_D_TR_SE_CH34\n",
            "2019-11-13-08-00_Schleusinger-Allee_70Kmh_2228600_M_W_TR_SE_CH34\n",
            "2019-11-18-16-40_Langewiesener-Strasse_50Kmh_2327853_A_D_TL_SE_CH34\n",
            "2019-11-18-07-25_Langewiesener-Strasse_50Kmh_420120_M_D_TR_SE_CH34\n",
            "2019-11-13-08-00_Schleusinger-Allee_70Kmh_1701800_M_W_TL_SE_CH34\n",
            "2019-10-23-16-20_Fraunhofer-IDMT_30Kmh_1649048_A_D_TL_SE_CH34\n"
          ]
        }
      ]
    },
    {
      "cell_type": "code",
      "source": [],
      "metadata": {
        "id": "po3FYey_q2sw"
      },
      "execution_count": null,
      "outputs": []
    }
  ]
}