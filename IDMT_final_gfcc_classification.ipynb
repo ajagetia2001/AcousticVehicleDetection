{
  "cells": [
    {
      "cell_type": "code",
      "execution_count": null,
      "metadata": {
        "id": "eXpZ2HsmAPJu"
      },
      "outputs": [],
      "source": [
        "import tensorflow as tf \n",
        "import pandas as pd\n",
        "import numpy as np"
      ]
    },
    {
      "cell_type": "code",
      "execution_count": null,
      "metadata": {
        "id": "DhkdtKaOBW9o"
      },
      "outputs": [],
      "source": [
        "df=pd.read_csv(\"/content/drive/MyDrive/Data/IDMT_full_gfcc_final.csv\")"
      ]
    },
    {
      "cell_type": "code",
      "execution_count": null,
      "metadata": {
        "id": "-8Y69pftBXBn"
      },
      "outputs": [],
      "source": [
        "arr=np.load(\"/content/drive/MyDrive/Data/features_full_gfcc_final.npy\")"
      ]
    },
    {
      "cell_type": "code",
      "source": [
        "df['vehicle'].value_counts()"
      ],
      "metadata": {
        "colab": {
          "base_uri": "https://localhost:8080/"
        },
        "id": "VW8DeSY4zgdG",
        "outputId": "b013688d-3929-4f22-b7c3-f19db9c41b4a"
      },
      "execution_count": null,
      "outputs": [
        {
          "output_type": "execute_result",
          "data": {
            "text/plain": [
              "None    4071\n",
              "C       3902\n",
              "T        268\n",
              "M        246\n",
              "Name: vehicle, dtype: int64"
            ]
          },
          "metadata": {},
          "execution_count": 40
        }
      ]
    },
    {
      "cell_type": "code",
      "execution_count": null,
      "metadata": {
        "id": "hJvY9a40BXQI"
      },
      "outputs": [],
      "source": [
        "X=arr\n",
        "y=np.array(df['vehicle'].tolist())\n",
        "### Label Encoding -> Label Encoder\n",
        "from tensorflow.keras.utils import to_categorical\n",
        "from sklearn.preprocessing import LabelEncoder\n",
        "labelencoder=LabelEncoder()\n",
        "y=to_categorical(labelencoder.fit_transform(y))\n",
        "### Train Test Split\n",
        "from sklearn.model_selection import train_test_split\n",
        "X_train,X_test,y_train,y_test=train_test_split(X,y,test_size=0.3,random_state=0)"
      ]
    },
    {
      "cell_type": "code",
      "source": [
        "print(np.shape(X_train))\n",
        "print(np.shape(X_test))\n",
        "print(np.shape(y_train))\n",
        "print(np.shape(y_test))"
      ],
      "metadata": {
        "colab": {
          "base_uri": "https://localhost:8080/"
        },
        "id": "vIUYEHYxjCqM",
        "outputId": "ed14b878-9a26-4ada-c98b-f1acff8fb923"
      },
      "execution_count": null,
      "outputs": [
        {
          "output_type": "stream",
          "name": "stdout",
          "text": [
            "(5940, 198, 64)\n",
            "(2547, 198, 64)\n",
            "(5940, 4)\n",
            "(2547, 4)\n"
          ]
        }
      ]
    },
    {
      "cell_type": "code",
      "execution_count": null,
      "metadata": {
        "id": "r7hc5yfBBl-D"
      },
      "outputs": [],
      "source": [
        "from tensorflow.keras import datasets, layers, models,Sequential\n",
        "from tensorflow.keras.models import Sequential\n",
        "from tensorflow.keras.layers import Dense,Dropout,Activation,Flatten,Conv3D,MaxPool1D,Conv2D,Conv1D,MaxPool2D\n",
        "from tensorflow.keras.optimizers import Adam\n",
        "from sklearn import metrics\n",
        "from keras.callbacks import ReduceLROnPlateau\n",
        "from sklearn.metrics import roc_curve,roc_auc_score\n",
        "import matplotlib.pyplot as plt"
      ]
    },
    {
      "cell_type": "code",
      "execution_count": null,
      "metadata": {
        "id": "cqzwx7NGBq_i"
      },
      "outputs": [],
      "source": [
        "learning_rate_reduction = ReduceLROnPlateau(monitor='accuracy', patience = 2, verbose=1,factor=0.5, min_lr=0.00001)"
      ]
    },
    {
      "cell_type": "code",
      "execution_count": null,
      "metadata": {
        "id": "GMjmSBfRBrC7"
      },
      "outputs": [],
      "source": [
        "nn = models.Sequential([\n",
        "        layers.Conv1D(input_shape=(198,64),filters=64,kernel_size=3,padding='same', activation='relu'),\n",
        "        layers.MaxPool1D(pool_size=2),\n",
        "        layers.Dropout(0.2),\n",
        "        layers.Conv1D(filters=64,kernel_size=3,padding='same', activation='relu'),\n",
        "        layers.MaxPool1D(pool_size=2),\n",
        "        layers.Dropout(0.2),\n",
        "        layers.Conv1D(filters=32,kernel_size=3,padding='same', activation='relu'),\n",
        "        layers.MaxPool1D(pool_size=3),\n",
        "        layers.Dropout(0.2),\n",
        "        layers.Conv1D(filters=16,kernel_size=3,padding='same', activation='relu'),\n",
        "        layers.MaxPool1D(pool_size=2),\n",
        "        layers.Flatten(),\n",
        "        layers.Dense(1000, activation='relu'),\n",
        "        layers.Dropout(0.2),\n",
        "        layers.Dense(500, activation='relu'),\n",
        "        layers.Dense(100, activation='relu'),\n",
        "        layers.Dense(4, activation='softmax')    \n",
        "    ])"
      ]
    },
    {
      "cell_type": "code",
      "execution_count": null,
      "metadata": {
        "colab": {
          "base_uri": "https://localhost:8080/"
        },
        "id": "1G-PzQ37BvTS",
        "outputId": "697bacf3-ce74-40cb-b20c-c6a7d965d823"
      },
      "outputs": [
        {
          "output_type": "stream",
          "name": "stdout",
          "text": [
            "Epoch 1/30\n",
            "186/186 [==============================] - 2s 6ms/step - loss: 0.2494 - accuracy: 0.9120 - lr: 0.0010\n",
            "Epoch 2/30\n",
            "186/186 [==============================] - 1s 5ms/step - loss: 0.0898 - accuracy: 0.9715 - lr: 0.0010\n",
            "Epoch 3/30\n",
            "186/186 [==============================] - 1s 8ms/step - loss: 0.0618 - accuracy: 0.9803 - lr: 0.0010\n",
            "Epoch 4/30\n",
            "186/186 [==============================] - 1s 6ms/step - loss: 0.0563 - accuracy: 0.9805 - lr: 0.0010\n",
            "Epoch 5/30\n",
            "186/186 [==============================] - 1s 5ms/step - loss: 0.0607 - accuracy: 0.9816 - lr: 0.0010\n",
            "Epoch 6/30\n",
            "186/186 [==============================] - 1s 6ms/step - loss: 0.0468 - accuracy: 0.9832 - lr: 0.0010\n",
            "Epoch 7/30\n",
            "186/186 [==============================] - 1s 6ms/step - loss: 0.0413 - accuracy: 0.9859 - lr: 0.0010\n",
            "Epoch 8/30\n",
            "186/186 [==============================] - 1s 6ms/step - loss: 0.0579 - accuracy: 0.9838 - lr: 0.0010\n",
            "Epoch 9/30\n",
            "185/186 [============================>.] - ETA: 0s - loss: 0.0638 - accuracy: 0.9806\n",
            "Epoch 9: ReduceLROnPlateau reducing learning rate to 0.0005000000237487257.\n",
            "186/186 [==============================] - 1s 6ms/step - loss: 0.0636 - accuracy: 0.9806 - lr: 0.0010\n",
            "Epoch 10/30\n",
            "186/186 [==============================] - 1s 6ms/step - loss: 0.0329 - accuracy: 0.9889 - lr: 5.0000e-04\n",
            "Epoch 11/30\n",
            "186/186 [==============================] - 1s 6ms/step - loss: 0.0302 - accuracy: 0.9894 - lr: 5.0000e-04\n",
            "Epoch 12/30\n",
            "186/186 [==============================] - 1s 6ms/step - loss: 0.0293 - accuracy: 0.9897 - lr: 5.0000e-04\n",
            "Epoch 13/30\n",
            "186/186 [==============================] - 1s 5ms/step - loss: 0.0229 - accuracy: 0.9924 - lr: 5.0000e-04\n",
            "Epoch 14/30\n",
            "186/186 [==============================] - 1s 5ms/step - loss: 0.0233 - accuracy: 0.9906 - lr: 5.0000e-04\n",
            "Epoch 15/30\n",
            "185/186 [============================>.] - ETA: 0s - loss: 0.0226 - accuracy: 0.9916\n",
            "Epoch 15: ReduceLROnPlateau reducing learning rate to 0.0002500000118743628.\n",
            "186/186 [==============================] - 1s 5ms/step - loss: 0.0226 - accuracy: 0.9916 - lr: 5.0000e-04\n",
            "Epoch 16/30\n",
            "186/186 [==============================] - 1s 5ms/step - loss: 0.0214 - accuracy: 0.9921 - lr: 2.5000e-04\n",
            "Epoch 17/30\n",
            "186/186 [==============================] - ETA: 0s - loss: 0.0185 - accuracy: 0.9924\n",
            "Epoch 17: ReduceLROnPlateau reducing learning rate to 0.0001250000059371814.\n",
            "186/186 [==============================] - 1s 5ms/step - loss: 0.0185 - accuracy: 0.9924 - lr: 2.5000e-04\n",
            "Epoch 18/30\n",
            "186/186 [==============================] - 1s 5ms/step - loss: 0.0168 - accuracy: 0.9936 - lr: 1.2500e-04\n",
            "Epoch 19/30\n",
            "186/186 [==============================] - 1s 5ms/step - loss: 0.0187 - accuracy: 0.9939 - lr: 1.2500e-04\n",
            "Epoch 20/30\n",
            "186/186 [==============================] - 1s 6ms/step - loss: 0.0165 - accuracy: 0.9939 - lr: 1.2500e-04\n",
            "Epoch 21/30\n",
            "186/186 [==============================] - 1s 5ms/step - loss: 0.0147 - accuracy: 0.9958 - lr: 1.2500e-04\n",
            "Epoch 22/30\n",
            "186/186 [==============================] - 1s 6ms/step - loss: 0.0133 - accuracy: 0.9948 - lr: 1.2500e-04\n",
            "Epoch 23/30\n",
            "178/186 [===========================>..] - ETA: 0s - loss: 0.0146 - accuracy: 0.9942\n",
            "Epoch 23: ReduceLROnPlateau reducing learning rate to 6.25000029685907e-05.\n",
            "186/186 [==============================] - 1s 6ms/step - loss: 0.0142 - accuracy: 0.9944 - lr: 1.2500e-04\n",
            "Epoch 24/30\n",
            "186/186 [==============================] - 1s 6ms/step - loss: 0.0125 - accuracy: 0.9961 - lr: 6.2500e-05\n",
            "Epoch 25/30\n",
            "186/186 [==============================] - 1s 6ms/step - loss: 0.0119 - accuracy: 0.9958 - lr: 6.2500e-05\n",
            "Epoch 26/30\n",
            "183/186 [============================>.] - ETA: 0s - loss: 0.0135 - accuracy: 0.9944\n",
            "Epoch 26: ReduceLROnPlateau reducing learning rate to 3.125000148429535e-05.\n",
            "186/186 [==============================] - 1s 6ms/step - loss: 0.0134 - accuracy: 0.9944 - lr: 6.2500e-05\n",
            "Epoch 27/30\n",
            "186/186 [==============================] - 1s 5ms/step - loss: 0.0135 - accuracy: 0.9951 - lr: 3.1250e-05\n",
            "Epoch 28/30\n",
            "183/186 [============================>.] - ETA: 0s - loss: 0.0115 - accuracy: 0.9954\n",
            "Epoch 28: ReduceLROnPlateau reducing learning rate to 1.5625000742147677e-05.\n",
            "186/186 [==============================] - 1s 6ms/step - loss: 0.0117 - accuracy: 0.9951 - lr: 3.1250e-05\n",
            "Epoch 29/30\n",
            "186/186 [==============================] - 1s 6ms/step - loss: 0.0118 - accuracy: 0.9960 - lr: 1.5625e-05\n",
            "Epoch 30/30\n",
            "178/186 [===========================>..] - ETA: 0s - loss: 0.0119 - accuracy: 0.9960\n",
            "Epoch 30: ReduceLROnPlateau reducing learning rate to 1e-05.\n",
            "186/186 [==============================] - 1s 5ms/step - loss: 0.0116 - accuracy: 0.9961 - lr: 1.5625e-05\n"
          ]
        }
      ],
      "source": [
        "nn.compile(optimizer='Adam',\n",
        "              loss='categorical_crossentropy',\n",
        "              metrics=['accuracy'])\n",
        "history=nn.fit(X_train, y_train, epochs=30,callbacks = [learning_rate_reduction])"
      ]
    },
    {
      "cell_type": "code",
      "execution_count": null,
      "metadata": {
        "colab": {
          "base_uri": "https://localhost:8080/"
        },
        "id": "c9V0oxB0BvWR",
        "outputId": "6382794e-849e-4404-f933-61ddf26b8b30"
      },
      "outputs": [
        {
          "output_type": "stream",
          "name": "stdout",
          "text": [
            "186/186 [==============================] - 1s 4ms/step - loss: 0.0118 - accuracy: 0.9960\n",
            "Accuracy of the model on Training Data is -  99.59595799446106 %\n",
            "80/80 [==============================] - 0s 4ms/step - loss: 0.0363 - accuracy: 0.9894\n",
            "Accuracy of the model on Testing Data is -  98.93993139266968 %\n"
          ]
        }
      ],
      "source": [
        "print(\"Accuracy of the model on Training Data is - \" , nn.evaluate(X_train,y_train)[1]*100 , \"%\")\n",
        "print(\"Accuracy of the model on Testing Data is - \" , nn.evaluate(X_test,y_test)[1]*100 , \"%\")"
      ]
    },
    {
      "cell_type": "code",
      "execution_count": null,
      "metadata": {
        "id": "9IcU1RicBvZK",
        "colab": {
          "base_uri": "https://localhost:8080/"
        },
        "outputId": "382252ff-16a3-4f58-977b-05afd08eacc2"
      },
      "outputs": [
        {
          "output_type": "stream",
          "name": "stdout",
          "text": [
            "[[1 0 0 0]\n",
            " [1 0 0 0]]\n",
            "[[1. 0. 0. 0.]\n",
            " [1. 0. 0. 0.]\n",
            " [0. 0. 1. 0.]\n",
            " ...\n",
            " [0. 0. 1. 0.]\n",
            " [1. 0. 0. 0.]\n",
            " [0. 0. 1. 0.]]\n",
            "[[[1336   19]\n",
            "  [   4 1188]]\n",
            "\n",
            " [[2476    2]\n",
            "  [   1   68]]\n",
            "\n",
            " [[1328    2]\n",
            "  [  12 1205]]\n",
            "\n",
            " [[2476    2]\n",
            "  [  11   58]]]\n",
            "              precision    recall  f1-score   support\n",
            "\n",
            "           0       0.98      1.00      0.99      1192\n",
            "           1       0.97      0.99      0.98        69\n",
            "           2       1.00      0.99      0.99      1217\n",
            "           3       0.97      0.84      0.90        69\n",
            "\n",
            "   micro avg       0.99      0.99      0.99      2547\n",
            "   macro avg       0.98      0.95      0.97      2547\n",
            "weighted avg       0.99      0.99      0.99      2547\n",
            " samples avg       0.99      0.99      0.99      2547\n",
            "\n"
          ]
        },
        {
          "output_type": "stream",
          "name": "stderr",
          "text": [
            "/usr/local/lib/python3.7/dist-packages/sklearn/metrics/_classification.py:1318: UndefinedMetricWarning: Precision and F-score are ill-defined and being set to 0.0 in samples with no predicted labels. Use `zero_division` parameter to control this behavior.\n",
            "  _warn_prf(average, modifier, msg_start, len(result))\n"
          ]
        }
      ],
      "source": [
        "import sklearn.metrics as skm\n",
        "\n",
        "# y_predict=nn.predict(X_test)\n",
        "y_predict=(nn.predict(X_test) > 0.5).astype(\"int32\")\n",
        "print(y_predict[0:2])\n",
        "y_true=y_test\n",
        "print(y_true)\n",
        "\n",
        "# res = tf.math.confusion_matrix(y_true,y_predict)\n",
        "cm = skm.multilabel_confusion_matrix(y_true, y_predict)\n",
        "print(cm)\n",
        "print( skm.classification_report(y_true,y_predict))"
      ]
    }
  ],
  "metadata": {
    "accelerator": "GPU",
    "colab": {
      "provenance": []
    },
    "gpuClass": "standard",
    "kernelspec": {
      "display_name": "Python 3",
      "name": "python3"
    },
    "language_info": {
      "name": "python"
    }
  },
  "nbformat": 4,
  "nbformat_minor": 0
}